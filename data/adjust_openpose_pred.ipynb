{
 "cells": [
  {
   "cell_type": "markdown",
   "source": [
    "## Ajust 2d detections of Openpose to improve 3d predictions"
   ],
   "metadata": {
    "collapsed": false,
    "pycharm": {
     "name": "#%% md\n"
    }
   }
  },
  {
   "cell_type": "code",
   "execution_count": 3,
   "outputs": [],
   "source": [
    "import numpy as np\n",
    "import cv2\n",
    "import matplotlib.pyplot as plt\n",
    "import pandas as pd"
   ],
   "metadata": {
    "collapsed": false,
    "pycharm": {
     "name": "#%%\n"
    }
   }
  },
  {
   "cell_type": "code",
   "execution_count": 6,
   "outputs": [],
   "source": [
    "filename = '../inference/testExportV2Front/original_hip/openpose_h36m_17kps.npy'"
   ],
   "metadata": {
    "collapsed": false,
    "pycharm": {
     "name": "#%%\n"
    }
   }
  },
  {
   "cell_type": "code",
   "execution_count": 7,
   "id": "5b5db713-8036-4e0a-b14d-32479bd7bd46",
   "metadata": {
    "pycharm": {
     "name": "#%%\n"
    }
   },
   "outputs": [],
   "source": [
    "## move thorax keypoint lower\n",
    "ope_array = np.load(filename, allow_pickle=True)\n",
    "#ope_array[:,8,1] += 35\n"
   ]
  },
  {
   "cell_type": "code",
   "execution_count": 8,
   "id": "3d2883e3-ae16-479a-b820-a0fea67a7fcd",
   "metadata": {
    "pycharm": {
     "name": "#%%\n"
    }
   },
   "outputs": [],
   "source": [
    "np.save('openpose_h36m.npy', ope_array)\n"
   ]
  },
  {
   "cell_type": "markdown",
   "id": "899cea3d-88a5-4a4a-9563-afb8a4a7f6eb",
   "metadata": {
    "pycharm": {
     "name": "#%% md\n"
    }
   },
   "source": [
    "- Κατεβάζοντας το thorax 35pixel το mpjpe απο 128->119\n",
    "- Φέρνοντας του ώμους προς τα μέσα πάνω από 5 pixel (πχ 10,20) το error μεγαλώνει, ενώ για 5 pixel δεν έχει ουσιαστική διαφορά\n"
   ]
  },
  {
   "cell_type": "markdown",
   "source": [],
   "metadata": {
    "collapsed": false,
    "pycharm": {
     "name": "#%% md\n"
    }
   }
  },
  {
   "cell_type": "code",
   "execution_count": null,
   "id": "8ecd7865-e9a7-4929-b900-e00087f7a0c3",
   "metadata": {
    "pycharm": {
     "name": "#%%\n"
    }
   },
   "outputs": [],
   "source": []
  }
 ],
 "metadata": {
  "kernelspec": {
   "display_name": "Python 3 (ipykernel)",
   "language": "python",
   "name": "python3"
  },
  "language_info": {
   "codemirror_mode": {
    "name": "ipython",
    "version": 3
   },
   "file_extension": ".py",
   "mimetype": "text/x-python",
   "name": "python",
   "nbconvert_exporter": "python",
   "pygments_lexer": "ipython3",
   "version": "3.7.4"
  }
 },
 "nbformat": 4,
 "nbformat_minor": 5
}
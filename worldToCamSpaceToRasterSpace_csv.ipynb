{
 "cells": [
  {
   "cell_type": "code",
   "execution_count": 2,
   "metadata": {
    "pycharm": {
     "name": "#%%\n"
    }
   },
   "outputs": [],
   "source": [
    "import numpy as np\n",
    "import pandas as pd\n",
    "import cv2\n",
    "import matplotlib.pyplot as plt"
   ]
  },
  {
   "cell_type": "code",
   "execution_count": 3,
   "metadata": {
    "pycharm": {
     "name": "#%%\n"
    }
   },
   "outputs": [],
   "source": [
    "csv_path = 'testExportV2.csv'\n",
    "video_name = 'EUDs1Front' #  Front Left Right\n",
    "#video_path = 'inference/input_dir_video/Paula_vid_full/'+video_name+'.mp4'  \n",
    "video_path = 'inference/'+video_name+'/'+video_name+'.mp4'\n",
    "vcap = cv2.VideoCapture(video_path)\n",
    "count = 0\n",
    "frame = 78\n",
    "while vcap.isOpened():\n",
    "    nx = vcap.get(cv2.CAP_PROP_FRAME_WIDTH)\n",
    "    ny = vcap.get(cv2.CAP_PROP_FRAME_HEIGHT)\n",
    "    success,image = vcap.read()\n",
    "    if count==frame: \n",
    "        cv2.imwrite('inference/'+video_name+'/frame'+str(frame)+'.png', image)     # save frame as PNG file      \n",
    "        break\n",
    "    count+=1\n",
    "    \n"
   ]
  },
  {
   "cell_type": "code",
   "execution_count": 8,
   "metadata": {},
   "outputs": [
    {
     "data": {
      "text/plain": [
       "'inference/EUDs2Front/EUDs2Front.mp4'"
      ]
     },
     "execution_count": 8,
     "metadata": {},
     "output_type": "execute_result"
    }
   ],
   "source": [
    "video_path"
   ]
  },
  {
   "cell_type": "code",
   "execution_count": 15,
   "metadata": {
    "pycharm": {
     "name": "#%%\n"
    }
   },
   "outputs": [],
   "source": [
    "#### we look througth the center ??? ###\n",
    "\n",
    "fov = 10   ##vertical fov ????? \n",
    "n = 10 \n",
    "f = 10000 \n",
    "\n",
    "t = n* np.tan(np.deg2rad(fov/2.)) #convert from degrees to rad     #top\n",
    "r = (nx/ny)*t  #right\n",
    "\n",
    "b = -t #bottom\n",
    "l = -r #left\n",
    "\n",
    "height = t-b\n",
    "width = r-l\n",
    "\n",
    "#print (\" Camvas top : \",t )\n",
    "#print (\" Camvas bottom : \",b )\n",
    "#print (\" Camvas right \",r )\n",
    "#print (\" Camvas left : \",l )"
   ]
  },
  {
   "cell_type": "code",
   "execution_count": 16,
   "metadata": {
    "pycharm": {
     "name": "#%%\n"
    }
   },
   "outputs": [],
   "source": [
    "start = np.array([-27, 1200, 280])   # camera position - frontview\n",
    "#start = np.array([743, -69, 230])   # camera position - rightview\n",
    "#start = np.array([-743, -69, 230])   # camera position - left view\n",
    "to  = np.array([-0.45, 0.31, 110])     # look_at point\n",
    "\n",
    "gaze = np.subtract(to,start) \n",
    "#print ('gaze:',gaze)\n",
    "w = np.divide(-gaze,np.linalg.norm(gaze))\n",
    "\n",
    "#print ('w: ',w)\n",
    "#up_vec = np.array([0,0,1]) \n",
    "up_vec = np.array([0.0038895, -0.0926873, 0.995688])\n",
    "#print ('up_vec:',up_vec)\n",
    "\n",
    "u = np.cross(up_vec,w)\n",
    "u=np.divide(u,np.linalg.norm(u))\n",
    "#print (np.linalg.norm(u))\n",
    "\n",
    "v = np.cross(w,u)\n",
    "\n",
    "np.append(u,0)\n",
    "np.append(v,0)\n",
    "np.append(w,0)\n",
    "np.append(start,1)\n",
    "\n",
    "#print ('u:',u)\n",
    "#print ('v:',v)\n",
    "\n",
    "Mcam2world = np.column_stack((np.append(u,0),np.append(v,0),np.append(w,0),np.append(start,1)))\n",
    "#print ('Mcam2world: \\n',Mcam2world) \n",
    "\n",
    "Mworld2cam = np.linalg.inv(Mcam2world)\n",
    "#print ('Mworld2cam: \\n',Mcam2world) \n",
    "\n",
    "Mper = np.array([[2*n/(r-l),0,0,0],[0,2*n/(t-b),0,0],[0,0,-(f+n)/(f-n),-2*f*n/(f-n)],[0,0,-1,0]])\n",
    "\n",
    "Mvp = np.array([[nx/2,0,0,(nx-1)/2],[0,ny/2,0,(ny-1)/2],[0,0,1,0],[0,0,0,1]])"
   ]
  },
  {
   "cell_type": "code",
   "execution_count": 17,
   "metadata": {
    "pycharm": {
     "name": "#%%\n"
    }
   },
   "outputs": [
    {
     "data": {
      "text/plain": [
       "array([[-1.000e+00, -0.000e+00,  0.000e+00, -1.000e+00],\n",
       "       [ 0.000e+00, -0.000e+00,  1.000e+00, -1.090e+02],\n",
       "       [-0.000e+00,  1.000e+00,  0.000e+00, -1.228e+03],\n",
       "       [ 0.000e+00,  0.000e+00,  0.000e+00,  1.000e+00]])"
      ]
     },
     "execution_count": 17,
     "metadata": {},
     "output_type": "execute_result"
    }
   ],
   "source": [
    "Mworld2cam.round()"
   ]
  },
  {
   "cell_type": "code",
   "execution_count": 18,
   "metadata": {
    "pycharm": {
     "name": "#%%\n"
    }
   },
   "outputs": [
    {
     "data": {
      "text/plain": [
       "array([[-9.99747803e-01,  4.94293438e-03, -2.19065595e-02,\n",
       "        -2.70000000e+01],\n",
       "       [-2.23832807e-02, -1.40192706e-01,  9.89871201e-01,\n",
       "         1.20000000e+03],\n",
       "       [ 1.82172852e-03,  9.90111899e-01,  1.40267989e-01,\n",
       "         2.80000000e+02],\n",
       "       [ 0.00000000e+00,  0.00000000e+00,  0.00000000e+00,\n",
       "         1.00000000e+00]])"
      ]
     },
     "execution_count": 18,
     "metadata": {},
     "output_type": "execute_result"
    }
   ],
   "source": [
    "Mcam2world"
   ]
  },
  {
   "cell_type": "code",
   "execution_count": 19,
   "metadata": {
    "pycharm": {
     "name": "#%%\n"
    }
   },
   "outputs": [
    {
     "data": {
      "text/plain": [
       "array([-0.00665045,  0.65560794,  0.75501796, -0.0090482 ])"
      ]
     },
     "execution_count": 19,
     "metadata": {},
     "output_type": "execute_result"
    }
   ],
   "source": [
    "from scipy.spatial.transform import Rotation as R\n",
    "r = R.from_matrix(Mcam2world[:3,:3])\n",
    "quaternion = r.as_quat()\n",
    "quaternion"
   ]
  },
  {
   "cell_type": "code",
   "execution_count": 20,
   "metadata": {
    "pycharm": {
     "name": "#%%\n"
    }
   },
   "outputs": [],
   "source": [
    "df_org = pd.read_csv(csv_path) \n",
    "df = df_org.iloc[:,2:]\n",
    "df_cam = df.copy(deep=True)\n",
    "df_raster = df.copy(deep=True)\n"
   ]
  },
  {
   "cell_type": "code",
   "execution_count": 21,
   "metadata": {
    "pycharm": {
     "name": "#%%\n"
    }
   },
   "outputs": [
    {
     "data": {
      "text/html": [
       "<div>\n",
       "<style scoped>\n",
       "    .dataframe tbody tr th:only-of-type {\n",
       "        vertical-align: middle;\n",
       "    }\n",
       "\n",
       "    .dataframe tbody tr th {\n",
       "        vertical-align: top;\n",
       "    }\n",
       "\n",
       "    .dataframe thead th {\n",
       "        text-align: right;\n",
       "    }\n",
       "</style>\n",
       "<table border=\"1\" class=\"dataframe\">\n",
       "  <thead>\n",
       "    <tr style=\"text-align: right;\">\n",
       "      <th></th>\n",
       "      <th>frame</th>\n",
       "      <th>seconds</th>\n",
       "      <th>leftfemurX</th>\n",
       "      <th>leftfemurY</th>\n",
       "      <th>leftfemurZ</th>\n",
       "      <th>rightfemurX</th>\n",
       "      <th>rightfemurY</th>\n",
       "      <th>rightfemurZ</th>\n",
       "      <th>waistX</th>\n",
       "      <th>waistY</th>\n",
       "      <th>...</th>\n",
       "      <th>neckZ</th>\n",
       "      <th>headbaseX</th>\n",
       "      <th>headbaseY</th>\n",
       "      <th>headbaseZ</th>\n",
       "      <th>sphnosetipX</th>\n",
       "      <th>sphnosetipY</th>\n",
       "      <th>sphnosetipZ</th>\n",
       "      <th>sphheadtopX</th>\n",
       "      <th>sphheadtopY</th>\n",
       "      <th>sphheadtopZ</th>\n",
       "    </tr>\n",
       "  </thead>\n",
       "  <tbody>\n",
       "    <tr>\n",
       "      <td>0</td>\n",
       "      <td>0</td>\n",
       "      <td>0.000</td>\n",
       "      <td>-12.77</td>\n",
       "      <td>-0.14</td>\n",
       "      <td>113.91</td>\n",
       "      <td>12.77</td>\n",
       "      <td>-0.14</td>\n",
       "      <td>113.91</td>\n",
       "      <td>0.00</td>\n",
       "      <td>0.00</td>\n",
       "      <td>...</td>\n",
       "      <td>171.80</td>\n",
       "      <td>0.03</td>\n",
       "      <td>0.00</td>\n",
       "      <td>177.70</td>\n",
       "      <td>-0.08</td>\n",
       "      <td>17.38</td>\n",
       "      <td>188.21</td>\n",
       "      <td>-0.08</td>\n",
       "      <td>5.88</td>\n",
       "      <td>209.71</td>\n",
       "    </tr>\n",
       "    <tr>\n",
       "      <td>1</td>\n",
       "      <td>1</td>\n",
       "      <td>0.033</td>\n",
       "      <td>-12.77</td>\n",
       "      <td>-0.14</td>\n",
       "      <td>113.92</td>\n",
       "      <td>12.77</td>\n",
       "      <td>-0.14</td>\n",
       "      <td>113.91</td>\n",
       "      <td>0.01</td>\n",
       "      <td>0.01</td>\n",
       "      <td>...</td>\n",
       "      <td>171.80</td>\n",
       "      <td>0.13</td>\n",
       "      <td>0.18</td>\n",
       "      <td>177.70</td>\n",
       "      <td>0.06</td>\n",
       "      <td>17.56</td>\n",
       "      <td>188.20</td>\n",
       "      <td>0.21</td>\n",
       "      <td>6.08</td>\n",
       "      <td>209.70</td>\n",
       "    </tr>\n",
       "    <tr>\n",
       "      <td>2</td>\n",
       "      <td>2</td>\n",
       "      <td>0.067</td>\n",
       "      <td>-12.77</td>\n",
       "      <td>-0.14</td>\n",
       "      <td>113.92</td>\n",
       "      <td>12.77</td>\n",
       "      <td>-0.14</td>\n",
       "      <td>113.91</td>\n",
       "      <td>0.01</td>\n",
       "      <td>0.02</td>\n",
       "      <td>...</td>\n",
       "      <td>171.80</td>\n",
       "      <td>0.21</td>\n",
       "      <td>0.34</td>\n",
       "      <td>177.70</td>\n",
       "      <td>0.21</td>\n",
       "      <td>17.73</td>\n",
       "      <td>188.19</td>\n",
       "      <td>0.51</td>\n",
       "      <td>6.25</td>\n",
       "      <td>209.70</td>\n",
       "    </tr>\n",
       "    <tr>\n",
       "      <td>3</td>\n",
       "      <td>3</td>\n",
       "      <td>0.100</td>\n",
       "      <td>-12.77</td>\n",
       "      <td>-0.14</td>\n",
       "      <td>113.92</td>\n",
       "      <td>12.77</td>\n",
       "      <td>-0.14</td>\n",
       "      <td>113.90</td>\n",
       "      <td>0.01</td>\n",
       "      <td>0.03</td>\n",
       "      <td>...</td>\n",
       "      <td>171.79</td>\n",
       "      <td>0.30</td>\n",
       "      <td>0.52</td>\n",
       "      <td>177.70</td>\n",
       "      <td>0.34</td>\n",
       "      <td>17.92</td>\n",
       "      <td>188.17</td>\n",
       "      <td>0.78</td>\n",
       "      <td>6.46</td>\n",
       "      <td>209.69</td>\n",
       "    </tr>\n",
       "    <tr>\n",
       "      <td>4</td>\n",
       "      <td>4</td>\n",
       "      <td>0.133</td>\n",
       "      <td>-12.77</td>\n",
       "      <td>-0.14</td>\n",
       "      <td>113.93</td>\n",
       "      <td>12.77</td>\n",
       "      <td>-0.14</td>\n",
       "      <td>113.90</td>\n",
       "      <td>0.02</td>\n",
       "      <td>0.04</td>\n",
       "      <td>...</td>\n",
       "      <td>171.79</td>\n",
       "      <td>0.39</td>\n",
       "      <td>0.69</td>\n",
       "      <td>177.70</td>\n",
       "      <td>0.50</td>\n",
       "      <td>18.10</td>\n",
       "      <td>188.16</td>\n",
       "      <td>1.08</td>\n",
       "      <td>6.65</td>\n",
       "      <td>209.68</td>\n",
       "    </tr>\n",
       "    <tr>\n",
       "      <td>...</td>\n",
       "      <td>...</td>\n",
       "      <td>...</td>\n",
       "      <td>...</td>\n",
       "      <td>...</td>\n",
       "      <td>...</td>\n",
       "      <td>...</td>\n",
       "      <td>...</td>\n",
       "      <td>...</td>\n",
       "      <td>...</td>\n",
       "      <td>...</td>\n",
       "      <td>...</td>\n",
       "      <td>...</td>\n",
       "      <td>...</td>\n",
       "      <td>...</td>\n",
       "      <td>...</td>\n",
       "      <td>...</td>\n",
       "      <td>...</td>\n",
       "      <td>...</td>\n",
       "      <td>...</td>\n",
       "      <td>...</td>\n",
       "      <td>...</td>\n",
       "    </tr>\n",
       "    <tr>\n",
       "      <td>56</td>\n",
       "      <td>56</td>\n",
       "      <td>1.867</td>\n",
       "      <td>-12.77</td>\n",
       "      <td>-0.14</td>\n",
       "      <td>113.92</td>\n",
       "      <td>12.77</td>\n",
       "      <td>-0.13</td>\n",
       "      <td>113.91</td>\n",
       "      <td>0.00</td>\n",
       "      <td>0.07</td>\n",
       "      <td>...</td>\n",
       "      <td>171.79</td>\n",
       "      <td>0.08</td>\n",
       "      <td>1.08</td>\n",
       "      <td>177.69</td>\n",
       "      <td>-0.08</td>\n",
       "      <td>18.55</td>\n",
       "      <td>188.03</td>\n",
       "      <td>0.33</td>\n",
       "      <td>7.26</td>\n",
       "      <td>209.64</td>\n",
       "    </tr>\n",
       "    <tr>\n",
       "      <td>57</td>\n",
       "      <td>57</td>\n",
       "      <td>1.900</td>\n",
       "      <td>-12.77</td>\n",
       "      <td>-0.14</td>\n",
       "      <td>113.91</td>\n",
       "      <td>12.77</td>\n",
       "      <td>-0.13</td>\n",
       "      <td>113.91</td>\n",
       "      <td>0.00</td>\n",
       "      <td>0.05</td>\n",
       "      <td>...</td>\n",
       "      <td>171.79</td>\n",
       "      <td>-0.04</td>\n",
       "      <td>0.81</td>\n",
       "      <td>177.70</td>\n",
       "      <td>-0.29</td>\n",
       "      <td>18.28</td>\n",
       "      <td>188.06</td>\n",
       "      <td>-0.09</td>\n",
       "      <td>6.96</td>\n",
       "      <td>209.65</td>\n",
       "    </tr>\n",
       "    <tr>\n",
       "      <td>58</td>\n",
       "      <td>58</td>\n",
       "      <td>1.933</td>\n",
       "      <td>-12.77</td>\n",
       "      <td>-0.14</td>\n",
       "      <td>113.91</td>\n",
       "      <td>12.77</td>\n",
       "      <td>-0.13</td>\n",
       "      <td>113.92</td>\n",
       "      <td>0.00</td>\n",
       "      <td>0.04</td>\n",
       "      <td>...</td>\n",
       "      <td>171.79</td>\n",
       "      <td>-0.16</td>\n",
       "      <td>0.56</td>\n",
       "      <td>177.70</td>\n",
       "      <td>-0.51</td>\n",
       "      <td>18.01</td>\n",
       "      <td>188.08</td>\n",
       "      <td>-0.51</td>\n",
       "      <td>6.67</td>\n",
       "      <td>209.66</td>\n",
       "    </tr>\n",
       "    <tr>\n",
       "      <td>59</td>\n",
       "      <td>59</td>\n",
       "      <td>1.967</td>\n",
       "      <td>-12.77</td>\n",
       "      <td>-0.14</td>\n",
       "      <td>113.91</td>\n",
       "      <td>12.77</td>\n",
       "      <td>-0.14</td>\n",
       "      <td>113.92</td>\n",
       "      <td>-0.01</td>\n",
       "      <td>0.02</td>\n",
       "      <td>...</td>\n",
       "      <td>171.80</td>\n",
       "      <td>-0.27</td>\n",
       "      <td>0.31</td>\n",
       "      <td>177.70</td>\n",
       "      <td>-0.69</td>\n",
       "      <td>17.75</td>\n",
       "      <td>188.10</td>\n",
       "      <td>-0.89</td>\n",
       "      <td>6.38</td>\n",
       "      <td>209.67</td>\n",
       "    </tr>\n",
       "    <tr>\n",
       "      <td>60</td>\n",
       "      <td>60</td>\n",
       "      <td>2.000</td>\n",
       "      <td>-12.77</td>\n",
       "      <td>-0.15</td>\n",
       "      <td>113.91</td>\n",
       "      <td>12.77</td>\n",
       "      <td>-0.14</td>\n",
       "      <td>113.92</td>\n",
       "      <td>-0.01</td>\n",
       "      <td>0.00</td>\n",
       "      <td>...</td>\n",
       "      <td>171.80</td>\n",
       "      <td>-0.37</td>\n",
       "      <td>0.10</td>\n",
       "      <td>177.70</td>\n",
       "      <td>-0.86</td>\n",
       "      <td>17.53</td>\n",
       "      <td>188.11</td>\n",
       "      <td>-1.23</td>\n",
       "      <td>6.15</td>\n",
       "      <td>209.67</td>\n",
       "    </tr>\n",
       "  </tbody>\n",
       "</table>\n",
       "<p>61 rows × 44 columns</p>\n",
       "</div>"
      ],
      "text/plain": [
       "    frame  seconds  leftfemurX  leftfemurY  leftfemurZ  rightfemurX  \\\n",
       "0       0    0.000      -12.77       -0.14      113.91        12.77   \n",
       "1       1    0.033      -12.77       -0.14      113.92        12.77   \n",
       "2       2    0.067      -12.77       -0.14      113.92        12.77   \n",
       "3       3    0.100      -12.77       -0.14      113.92        12.77   \n",
       "4       4    0.133      -12.77       -0.14      113.93        12.77   \n",
       "..    ...      ...         ...         ...         ...          ...   \n",
       "56     56    1.867      -12.77       -0.14      113.92        12.77   \n",
       "57     57    1.900      -12.77       -0.14      113.91        12.77   \n",
       "58     58    1.933      -12.77       -0.14      113.91        12.77   \n",
       "59     59    1.967      -12.77       -0.14      113.91        12.77   \n",
       "60     60    2.000      -12.77       -0.15      113.91        12.77   \n",
       "\n",
       "    rightfemurY  rightfemurZ  waistX  waistY  ...   neckZ  headbaseX  \\\n",
       "0         -0.14       113.91    0.00    0.00  ...  171.80       0.03   \n",
       "1         -0.14       113.91    0.01    0.01  ...  171.80       0.13   \n",
       "2         -0.14       113.91    0.01    0.02  ...  171.80       0.21   \n",
       "3         -0.14       113.90    0.01    0.03  ...  171.79       0.30   \n",
       "4         -0.14       113.90    0.02    0.04  ...  171.79       0.39   \n",
       "..          ...          ...     ...     ...  ...     ...        ...   \n",
       "56        -0.13       113.91    0.00    0.07  ...  171.79       0.08   \n",
       "57        -0.13       113.91    0.00    0.05  ...  171.79      -0.04   \n",
       "58        -0.13       113.92    0.00    0.04  ...  171.79      -0.16   \n",
       "59        -0.14       113.92   -0.01    0.02  ...  171.80      -0.27   \n",
       "60        -0.14       113.92   -0.01    0.00  ...  171.80      -0.37   \n",
       "\n",
       "    headbaseY  headbaseZ  sphnosetipX  sphnosetipY  sphnosetipZ  sphheadtopX  \\\n",
       "0        0.00     177.70        -0.08        17.38       188.21        -0.08   \n",
       "1        0.18     177.70         0.06        17.56       188.20         0.21   \n",
       "2        0.34     177.70         0.21        17.73       188.19         0.51   \n",
       "3        0.52     177.70         0.34        17.92       188.17         0.78   \n",
       "4        0.69     177.70         0.50        18.10       188.16         1.08   \n",
       "..        ...        ...          ...          ...          ...          ...   \n",
       "56       1.08     177.69        -0.08        18.55       188.03         0.33   \n",
       "57       0.81     177.70        -0.29        18.28       188.06        -0.09   \n",
       "58       0.56     177.70        -0.51        18.01       188.08        -0.51   \n",
       "59       0.31     177.70        -0.69        17.75       188.10        -0.89   \n",
       "60       0.10     177.70        -0.86        17.53       188.11        -1.23   \n",
       "\n",
       "    sphheadtopY  sphheadtopZ  \n",
       "0          5.88       209.71  \n",
       "1          6.08       209.70  \n",
       "2          6.25       209.70  \n",
       "3          6.46       209.69  \n",
       "4          6.65       209.68  \n",
       "..          ...          ...  \n",
       "56         7.26       209.64  \n",
       "57         6.96       209.65  \n",
       "58         6.67       209.66  \n",
       "59         6.38       209.67  \n",
       "60         6.15       209.67  \n",
       "\n",
       "[61 rows x 44 columns]"
      ]
     },
     "execution_count": 21,
     "metadata": {},
     "output_type": "execute_result"
    }
   ],
   "source": [
    "df_org"
   ]
  },
  {
   "cell_type": "code",
   "execution_count": 23,
   "metadata": {
    "pycharm": {
     "name": "#%%\n"
    }
   },
   "outputs": [],
   "source": [
    "dfr = df_org.iloc[:,2:]   #raster space \n",
    "dfc = df_org.iloc[:,2:]   #camera space\n",
    "\n",
    "for r in df.index:    \n",
    "    for c in range(0,len(df.columns),3):\n",
    "        Xcor = dfr.iloc[r,c]\n",
    "        Ycor =  dfr.iloc[r,c+1]\n",
    "        Zcor =  dfr.iloc[r,c+2]   \n",
    "        \n",
    "        Pworld = np.array([Xcor,Ycor,Zcor,1])  # homogeneous cords of selected joint\n",
    "        #print (Pworld)\n",
    "        Pcam = np.dot(Mworld2cam,Pworld)\n",
    "        dfc.iloc[r,c] = Pcam[0]\n",
    "        dfc.iloc[r,c+1] = Pcam[1] # + 55.378029  # make hip be origin \n",
    "        dfc.iloc[r,c+2 ] = Pcam[2] # + 641.291799  # make hip be origin \n",
    "        \n",
    "        Praster =  np.dot(Mvp,np.dot(Mper,Pcam))\n",
    "        #print (Praster)\n",
    "        \n",
    "        Praster = Praster/Praster[-1] # from homogeneous to cartesian coordinates\n",
    "        #print (Praster)\n",
    "        dfr.iloc[r,c] = Praster[0]\n",
    "        dfr.iloc[r,c+1] = ny-Praster[1] \n",
    "        dfr.iloc[r,c+2 ] = Praster[2]\n",
    "        \n",
    "    \n",
    "        #break\n",
    "    #break\n",
    "df_cam[dfc.columns] = dfc   #data transformed in camera space\n",
    "df_raster[dfr.columns] = dfr  #data transformed in raster space (pixel)\n",
    "\n",
    "df_cam.to_csv(video_path[:-4]+'_Camspace.csv',index=False)\n",
    "df_raster.to_csv(video_path[:-4]+'_Rasterspace.csv',index=False)\n"
   ]
  },
  {
   "cell_type": "code",
   "execution_count": 24,
   "metadata": {
    "pycharm": {
     "name": "#%%\n"
    }
   },
   "outputs": [
    {
     "data": {
      "text/plain": [
       "array([   17.93945202,    55.58528536, -1202.95262243])"
      ]
     },
     "execution_count": 24,
     "metadata": {},
     "output_type": "execute_result"
    }
   ],
   "source": [
    "rshoulder_paula = df_cam.loc[0,['rightshoulderX','rightshoulderY','rightshoulderZ']].to_numpy()\n",
    "\n",
    "\n",
    "lshoulder_paula = df_cam.loc[0,['leftshoulderX','leftshoulderY','leftshoulderZ']].to_numpy()\n",
    "lshoulder_paula"
   ]
  },
  {
   "cell_type": "code",
   "execution_count": 24,
   "metadata": {
    "pycharm": {
     "name": "#%%\n"
    }
   },
   "outputs": [
    {
     "name": "stdout",
     "output_type": "stream",
     "text": [
      "[227.9024535  187.39243666   0.98538405]\n"
     ]
    }
   ],
   "source": [
    "p1 = df_raster.loc[0,['rightshoulderX','rightshoulderY','rightshoulderZ']].to_numpy()\n",
    "print (p1)\n",
    "\n"
   ]
  },
  {
   "cell_type": "code",
   "execution_count": 25,
   "metadata": {
    "pycharm": {
     "name": "#%%\n"
    }
   },
   "outputs": [
    {
     "name": "stdout",
     "output_type": "stream",
     "text": [
      "Size of: 800 x 600\n"
     ]
    },
    {
     "data": {
      "image/png": "[encoded data removed]",
      "text/plain": [
       "<Figure size 640x480 with 1 Axes>"
      ]
     },
     "metadata": {},
     "output_type": "display_data"
    }
   ],
   "source": [
    "img = cv2.imread(\"frame0.png\")\n",
    "img = cv2.cvtColor(img, cv2.COLOR_BGR2RGB)\n",
    "print ('Size of:',img.shape[0],'x',img.shape[1])\n",
    "#plt.imshow(img)\n",
    "#plt.show()\n",
    "\n",
    "def draw_point(img, xPixel, yPixel):\n",
    "    cimg = img.copy()\n",
    "    start_point = (xPixel, yPixel)\n",
    "    end_point = (xPixel, yPixel)\n",
    "    #print (start_point)\n",
    "\n",
    "    # Black color in BGR\n",
    "    color = (0, 0, 0)\n",
    "\n",
    "    # Line thickness of 9 px\n",
    "    thickness = 5\n",
    "    img = cv2.line(img, start_point, end_point, color, thickness)\n",
    "    plt.imshow(img)\n",
    "\n",
    "\n",
    "draw_point(img,int(np.floor(p1[0])),int(np.floor(p1[1])))\n"
   ]
  },
  {
   "cell_type": "markdown",
   "metadata": {
    "pycharm": {
     "name": "#%% md\n"
    },
    "tags": []
   },
   "source": [
    "## Openpose Output "
   ]
  },
  {
   "cell_type": "code",
   "execution_count": null,
   "metadata": {
    "pycharm": {
     "name": "#%%\n"
    }
   },
   "outputs": [],
   "source": [
    "import json\n",
    "  \n",
    "# Opening JSON file\n",
    "f = open('testMultipleViewsFront_000000000000_keypoints.json')\n",
    "img = cv2.imread(\"frame0.png\")\n",
    "img = cv2.cvtColor(img, cv2.COLOR_BGR2RGB) \n",
    "# returns JSON object as \n",
    "# a dictionary\n",
    "data = json.load(f)\n",
    "font = cv2.FONT_HERSHEY_SIMPLEX  \n",
    "fontScale = 1\n",
    "color = (255, 0, 0)\n",
    "# Iterating through the json\n",
    "# list\n",
    "for ind, i in enumerate(data['part_candidates'][0]):    \n",
    "    p1 = data['part_candidates'][0][i]  \n",
    "    if p1:    \n",
    "        org =(int(np.floor(p1[0])),int(np.floor(p1[1])))\n",
    "        image = cv2.putText(img, str(ind), org, font,fontScale,color, thickness=2) \n",
    "        draw_point(image,int(np.floor(p1[0])),int(np.floor(p1[1])))    \n",
    "\n",
    "plt.figure(figsize = (30,15))\n",
    "#plt.imshow(image)\n",
    "    #draw_point(img,int(np.floor(p1[0])),int(np.floor(p1[1])))    \n",
    "f.close()"
   ]
  },
  {
   "cell_type": "markdown",
   "metadata": {
    "pycharm": {
     "name": "#%% md\n"
    }
   },
   "source": [
    "## Our data"
   ]
  },
  {
   "cell_type": "code",
   "execution_count": null,
   "metadata": {
    "pycharm": {
     "name": "#%%\n"
    }
   },
   "outputs": [],
   "source": [
    "img = cv2.imread(\"frame0.png\")\n",
    "img = cv2.cvtColor(img, cv2.COLOR_BGR2RGB)\n",
    "gen_cols = [df_raster.columns[i][:-1] for i in range (2,len(df_raster.columns[:-1]),3)]\n",
    "for ind, c in enumerate (gen_cols):\n",
    "    p1 = [df_raster.loc[0,c+'X'],df_raster.loc[0,c+'Y']]\n",
    "    if p1:    \n",
    "        org =(int(np.floor(p1[0])),int(np.floor(p1[1])))\n",
    "        image = cv2.putText(img, c, org, font,fontScale,color, thickness=2) \n",
    "        draw_point(image,int(np.floor(p1[0])),int(np.floor(p1[1])))    \n",
    "\n",
    "plt.figure(figsize = (30,15))\n",
    "#plt.imshow(image,)\n",
    "plt.show()"
   ]
  },
  {
   "cell_type": "code",
   "execution_count": null,
   "metadata": {
    "pycharm": {
     "name": "#%%\n"
    }
   },
   "outputs": [],
   "source": [
    "body_keypoints = {'5':'leftshoulder','6':'rightshoulder', '7':'leftelbow','8':'rightelbow','9':'leftwrist','10':'rightwrist','11':'lefthip','12':'righthip','17':'headbase'}"
   ]
  },
  {
   "cell_type": "code",
   "execution_count": null,
   "metadata": {
    "pycharm": {
     "name": "#%%\n"
    }
   },
   "outputs": [],
   "source": [
    "def midpoint(p1, p2):\n",
    "    return [(p1[0]+p2[0])/2, (p1[1]+p2[1])/2]"
   ]
  },
  {
   "cell_type": "code",
   "execution_count": null,
   "metadata": {
    "pycharm": {
     "name": "#%%\n"
    }
   },
   "outputs": [],
   "source": [
    "dict_bkps_openpose = {}\n",
    "for b in body_keypoints :\n",
    "    dict_bkps_openpose[body_keypoints[b]] = data['part_candidates'][0][b][0:2]\n",
    "dict_bkps_openpose['hips'] = midpoint(dict_bkps_openpose['lefthip'],dict_bkps_openpose['righthip'])\n",
    "del dict_bkps_openpose['righthip']\n",
    "del dict_bkps_openpose['lefthip']"
   ]
  },
  {
   "cell_type": "code",
   "execution_count": null,
   "metadata": {
    "pycharm": {
     "name": "#%%\n"
    }
   },
   "outputs": [],
   "source": [
    "dict_bkps_gt = {}\n",
    "for i in dict_bkps_openpose:\n",
    "    dict_bkps_gt[i] = [df_raster.loc[0,i+'X'],df_raster.loc[0,i+'Y']]\n",
    "#dict_bkps_gt['headbase'] = [df_raster.loc[0,'headbaseX'],df_raster.loc[0,'headbaseY']]"
   ]
  },
  {
   "cell_type": "code",
   "execution_count": null,
   "metadata": {
    "pycharm": {
     "name": "#%%\n"
    }
   },
   "outputs": [],
   "source": []
  },
  {
   "cell_type": "code",
   "execution_count": null,
   "metadata": {
    "pycharm": {
     "name": "#%%\n"
    }
   },
   "outputs": [],
   "source": []
  },
  {
   "cell_type": "code",
   "execution_count": null,
   "metadata": {
    "pycharm": {
     "name": "#%%\n"
    }
   },
   "outputs": [],
   "source": [
    "data['part_candidates']"
   ]
  },
  {
   "cell_type": "code",
   "execution_count": null,
   "metadata": {
    "pycharm": {
     "name": "#%%\n"
    }
   },
   "outputs": [],
   "source": [
    "dict_bkps_openpose"
   ]
  },
  {
   "cell_type": "code",
   "execution_count": null,
   "metadata": {
    "pycharm": {
     "name": "#%%\n"
    }
   },
   "outputs": [],
   "source": [
    "dict_bkps_gt"
   ]
  },
  {
   "cell_type": "markdown",
   "metadata": {
    "pycharm": {
     "name": "#%% md\n"
    }
   },
   "source": [
    "# Draw skeleton for each frame"
   ]
  },
  {
   "cell_type": "code",
   "execution_count": null,
   "metadata": {
    "pycharm": {
     "name": "#%%\n"
    }
   },
   "outputs": [],
   "source": [
    "parents = {'hips':[ 'waist',],\n",
    "           'rightwrist':['rightelbow'],\n",
    "           'rightelbow':['rightshoulder'],\n",
    "           'rightshoulder':['headbase'],\n",
    "           'leftwrist':['leftelbow'],\n",
    "           'leftelbow':['leftshoulder'],\n",
    "           'leftshoulder':['headbase'],\n",
    "           'upperspine':['neck'],\n",
    "           'neck':['headbase'],\n",
    "           'waist':['upperspine']}"
   ]
  },
  {
   "cell_type": "code",
   "execution_count": null,
   "metadata": {
    "pycharm": {
     "name": "#%%\n"
    }
   },
   "outputs": [],
   "source": [
    "img = cv2.imread(\"frame0.png\")\n",
    "print ('Size of:',img.shape[0],'x',img.shape[1])\n",
    "color = (255, 0, 0)\n",
    "thickness = 2\n",
    "df_openpose = pd.read_csv('2022-02-09/testMultipleViewsFront_openpose.csv')\n",
    "vidcap = cv2.VideoCapture('./2022-02-09/testMultipleViewsFront.avi')\n",
    "r = 0\n",
    "success,img0 = vidcap.read()\n",
    "while success:    \n",
    "    img0 = cv2.cvtColor(img0, cv2.COLOR_BGR2RGB)\n",
    "    for p in parents:\n",
    "        for c in parents[p]:\n",
    "            start_point = (int(np.floor(df_raster.loc[r,p+'X'])),int(np.floor(df_raster.loc[r,p+'Y'])))\n",
    "            end_point = (int(np.floor(df_raster.loc[r,c+'X'])),int(np.floor(df_raster.loc[r,c+'Y'])))\n",
    "            img0 = cv2.line(img0, end_point, end_point,thickness = 6, color=(0,0,255))\n",
    "            img0 = cv2.line(img0, start_point, start_point,thickness = 6, color=(0,0,255))\n",
    "            img0 = cv2.line(img0, start_point, end_point, color, thickness)\n",
    "            \n",
    "            if not p in ['hips','upperspine','waist','neck']:\n",
    "                start_point = (int(np.floor(df_openpose.loc[r,p+'X'])),int(np.floor(df_openpose.loc[r,p+'Y'])))\n",
    "                end_point = (int(np.floor(df_openpose.loc[r,c+'X'])),int(np.floor(df_openpose.loc[r,c+'Y'])))\n",
    "                img0 = cv2.line(img0, end_point, end_point,thickness = 6, color=(156,102,31))\n",
    "                img0 = cv2.line(img0, start_point, start_point, thickness = 6, color=(156,102,31))\n",
    "                img0 = cv2.line(img0, start_point, end_point,thickness = 2, color=(255,211,67))\n",
    "            \n",
    "            cv2.imwrite(\"img_skeletons_comparison/img%d.png\" % r, cv2.cvtColor(img0, cv2.COLOR_RGB2BGR))     # save frame as PNG file  \n",
    "    success,img0 = vidcap.read()\n",
    "    r += 1\n",
    "print ('NumOfFrames :',r)"
   ]
  },
  {
   "cell_type": "code",
   "execution_count": null,
   "metadata": {
    "pycharm": {
     "name": "#%%\n"
    }
   },
   "outputs": [],
   "source": []
  },
  {
   "cell_type": "code",
   "execution_count": null,
   "metadata": {
    "pycharm": {
     "name": "#%%\n"
    }
   },
   "outputs": [],
   "source": [
    "df_openpose"
   ]
  },
  {
   "cell_type": "code",
   "execution_count": null,
   "metadata": {
    "pycharm": {
     "name": "#%%\n"
    }
   },
   "outputs": [],
   "source": [
    "df_raster\n"
   ]
  },
  {
   "cell_type": "code",
   "execution_count": null,
   "metadata": {
    "pycharm": {
     "name": "#%%\n"
    }
   },
   "outputs": [],
   "source": []
  }
 ],
 "metadata": {
  "kernelspec": {
   "display_name": "Python 3 (ipykernel)",
   "language": "python",
   "name": "python3"
  },
  "language_info": {
   "codemirror_mode": {
    "name": "ipython",
    "version": 3
   },
   "file_extension": ".py",
   "mimetype": "text/x-python",
   "name": "python",
   "nbconvert_exporter": "python",
   "pygments_lexer": "ipython3",
   "version": "3.7.4"
  }
 },
 "nbformat": 4,
 "nbformat_minor": 4
}

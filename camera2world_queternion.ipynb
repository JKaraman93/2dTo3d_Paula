{
 "cells": [
  {
   "cell_type": "markdown",
   "id": "120dbac2-5d2f-4e2c-a13c-59548729741e",
   "metadata": {
    "pycharm": {
     "name": "#%% md\n"
    }
   },
   "source": [
    "## Updated 3.4.23"
   ]
  },
  {
   "cell_type": "code",
   "execution_count": 1,
   "id": "ae93dc50",
   "metadata": {
    "collapsed": false,
    "jupyter": {
     "outputs_hidden": false
    },
    "pycharm": {
     "name": "#%%\n"
    }
   },
   "outputs": [],
   "source": [
    "import numpy as np\n",
    "\n",
    "from common.arguments import parse_args\n",
    "import torch\n",
    "\n",
    "import torch.nn as nn\n",
    "import torch.nn.functional as F\n",
    "import torch.optim as optim\n",
    "import os\n",
    "import sys\n",
    "import errno\n",
    "import pandas as pd\n",
    "from common.camera import *\n",
    "from common.model import *\n",
    "from common.loss import *\n",
    "from common.generators import ChunkedGenerator, UnchunkedGenerator\n",
    "from time import time\n",
    "from common.utils import deterministic_random"
   ]
  },
  {
   "cell_type": "code",
   "execution_count": 1,
   "outputs": [
    {
     "ename": "ModuleNotFoundError",
     "evalue": "No module named 'cv2'",
     "output_type": "error",
     "traceback": [
      "\u001B[1;31m---------------------------------------------------------------------------\u001B[0m",
      "\u001B[1;31mModuleNotFoundError\u001B[0m                       Traceback (most recent call last)",
      "Cell \u001B[1;32mIn[1], line 1\u001B[0m\n\u001B[1;32m----> 1\u001B[0m \u001B[38;5;28;01mimport\u001B[39;00m \u001B[38;5;21;01mcv2\u001B[39;00m\n",
      "\u001B[1;31mModuleNotFoundError\u001B[0m: No module named 'cv2'"
     ]
    }
   ],
   "source": [
    "import cv2"
   ],
   "metadata": {
    "collapsed": false,
    "pycharm": {
     "name": "#%%\n"
    }
   }
  },
  {
   "cell_type": "code",
   "execution_count": 5,
   "id": "6a80a52a",
   "metadata": {
    "collapsed": false,
    "jupyter": {
     "outputs_hidden": false
    },
    "pycharm": {
     "name": "#%%\n"
    }
   },
   "outputs": [],
   "source": [
    "csv_path = r'testExportV2.csv'\n",
    "world_cords = pd.read_csv( csv_path)\n",
    "world_cords= world_cords.iloc[:,2:]"
   ]
  },
  {
   "cell_type": "code",
   "execution_count": 22,
   "id": "51867861-7bc1-4aaf-903b-a3d90d3f8a88",
   "metadata": {
    "pycharm": {
     "name": "#%%\n"
    }
   },
   "outputs": [],
   "source": [
    "Mworld2cam = np.array([[-9.99747803e-01, -2.23832807e-02,  1.82172852e-03,  -6.43337832e-01],\n",
    "       [ 4.94293438e-03, -1.40192706e-01,  9.90111899e-01, -1.08866625e+02],\n",
    "       [-2.19065595e-02,  9.89871201e-01,  1.40267989e-01,   -1.22771195e+03],\n",
    "       [ 0.00000000e+00,  0.00000000e+00,  0.00000000e+00,   1.00000000e+00]])"
   ]
  },
  {
   "cell_type": "code",
   "execution_count": 23,
   "id": "c19d886b-0c32-44eb-b1b4-1039c527e32a",
   "metadata": {
    "pycharm": {
     "name": "#%%\n"
    }
   },
   "outputs": [
    {
     "data": {
      "text/plain": [
       "array([ 23.31,  -3.61, 135.6 ,   1.  ])"
      ]
     },
     "execution_count": 23,
     "metadata": {},
     "output_type": "execute_result"
    }
   ],
   "source": [
    "# Relbow #\n",
    "Xcor = 23.31\n",
    "Ycor = -3.61\n",
    "Zcor = 135.6\n",
    "\n",
    "pworld= np.array([Xcor, Ycor , Zcor,1])\n",
    "pworld"
   ]
  },
  {
   "cell_type": "code",
   "execution_count": 30,
   "id": "5f423553-4827-4d2e-bf6e-9c920b60939b",
   "metadata": {
    "pycharm": {
     "name": "#%%\n"
    }
   },
   "outputs": [
    {
     "data": {
      "text/plain": [
       "array([-2.362000e+01,  2.601400e+01, -1.212776e+03,  1.000000e+00])"
      ]
     },
     "execution_count": 30,
     "metadata": {},
     "output_type": "execute_result"
    }
   ],
   "source": [
    "pcam = np.dot(Mworld2cam,pworld)\n",
    "np.round(pcam,3)"
   ]
  },
  {
   "cell_type": "code",
   "execution_count": 31,
   "id": "2ea4323b",
   "metadata": {
    "collapsed": false,
    "jupyter": {
     "outputs_hidden": false
    },
    "pycharm": {
     "name": "#%%\n"
    }
   },
   "outputs": [
    {
     "data": {
      "text/plain": [
       "array([-0.0090482 , -0.00665045,  0.65560794,  0.75501796])"
      ]
     },
     "execution_count": 31,
     "metadata": {},
     "output_type": "execute_result"
    }
   ],
   "source": [
    "from scipy.spatial.transform import Rotation as R\n",
    "r = R.from_matrix(Mcam2world[:3,:3])\n",
    "Rot = r.as_quat()\n",
    "Rot = np.append(Rot[3],Rot[:3])\n",
    "Rot"
   ]
  },
  {
   "cell_type": "code",
   "execution_count": 32,
   "id": "cbeba8a2-1a7a-45a5-9775-3daf93fba918",
   "metadata": {
    "pycharm": {
     "name": "#%%\n"
    }
   },
   "outputs": [
    {
     "data": {
      "text/plain": [
       "array([ -27., 1200.,  280.])"
      ]
     },
     "execution_count": 32,
     "metadata": {},
     "output_type": "execute_result"
    }
   ],
   "source": [
    "t  = Mcam2world[:,-1][:-1]\n",
    "t"
   ]
  },
  {
   "cell_type": "code",
   "execution_count": 33,
   "id": "de12ad29-c57a-41f5-92d4-f86f94c27af5",
   "metadata": {
    "pycharm": {
     "name": "#%%\n"
    }
   },
   "outputs": [
    {
     "data": {
      "text/plain": [
       "array([[[  -23.6196291 ,    26.01386341, -1212.77569246]]])"
      ]
     },
     "execution_count": 33,
     "metadata": {},
     "output_type": "execute_result"
    }
   ],
   "source": [
    "pred = pworld[:-1].reshape(1,1,3)\n",
    "pcam_videopose = world_to_camera(pred, Rot, t)\n",
    "pcam_videopose"
   ]
  },
  {
   "cell_type": "code",
   "execution_count": null,
   "id": "48b36740-b69a-431d-8fe7-e2d0d584d9e3",
   "metadata": {
    "pycharm": {
     "name": "#%%\n"
    }
   },
   "outputs": [],
   "source": []
  }
 ],
 "metadata": {
  "kernelspec": {
   "display_name": "Python 3 (ipykernel)",
   "language": "python",
   "name": "python3"
  },
  "language_info": {
   "codemirror_mode": {
    "name": "ipython",
    "version": 3
   },
   "file_extension": ".py",
   "mimetype": "text/x-python",
   "name": "python",
   "nbconvert_exporter": "python",
   "pygments_lexer": "ipython3",
   "version": "3.7.4"
  }
 },
 "nbformat": 4,
 "nbformat_minor": 5
}